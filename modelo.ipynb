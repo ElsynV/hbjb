{
 "cells": [
  {
   "cell_type": "markdown",
   "id": "f19627d2",
   "metadata": {},
   "source": [
    "# Análisis del uso de las aulas virtuales UIS\n",
    "\n",
    "## Estadística\n",
    "### Unidad I: Estadística descriptiva\n",
    "**Prof. Eliana Bonalde**\n",
    "\n",
    "___\n",
    "\n",
    "Algunos métodos para la manipulación y análisis del conjunto de datos de las aulas virtuales. \n",
    "\n",
    "Importamos las librerías a utilizar y el archivo en formato .CSV"
   ]
  },
  {
   "cell_type": "code",
   "execution_count": 1,
   "id": "dd1cf4ee",
   "metadata": {},
   "outputs": [],
   "source": [
    "import pandas as pd\n",
    "import numpy as np\n",
    "import matplotlib.pyplot as plt\n",
    "import seaborn as sns"
   ]
  },
  {
   "cell_type": "code",
   "execution_count": 2,
   "id": "8e886bc5",
   "metadata": {},
   "outputs": [],
   "source": [
    "df = pd.read_csv(\"data_D2.csv\") "
   ]
  },
  {
   "cell_type": "markdown",
   "id": "483c8b40",
   "metadata": {},
   "source": [
    "Pedimos información sobre el DataFrame"
   ]
  },
  {
   "cell_type": "code",
   "execution_count": 3,
   "id": "b5b33644",
   "metadata": {},
   "outputs": [
    {
     "data": {
      "text/plain": [
       "(20, 24)"
      ]
     },
     "execution_count": 3,
     "metadata": {},
     "output_type": "execute_result"
    }
   ],
   "source": [
    "#tamaño del archivo\n",
    "df.shape"
   ]
  },
  {
   "cell_type": "code",
   "execution_count": 4,
   "id": "635eb0e4",
   "metadata": {
    "scrolled": false
   },
   "outputs": [
    {
     "data": {
      "text/html": [
       "<div>\n",
       "<style scoped>\n",
       "    .dataframe tbody tr th:only-of-type {\n",
       "        vertical-align: middle;\n",
       "    }\n",
       "\n",
       "    .dataframe tbody tr th {\n",
       "        vertical-align: top;\n",
       "    }\n",
       "\n",
       "    .dataframe thead th {\n",
       "        text-align: right;\n",
       "    }\n",
       "</style>\n",
       "<table border=\"1\" class=\"dataframe\">\n",
       "  <thead>\n",
       "    <tr style=\"text-align: right;\">\n",
       "      <th></th>\n",
       "      <th>Marca temporal</th>\n",
       "      <th>Nombre</th>\n",
       "      <th>¿Qué porcentaje aproximado de sus cursos han tenido el apoyo de las aulas virtuales del Moodle antes de la presencialidad remota?</th>\n",
       "      <th>¿Qué porcentaje aproximado de sus cursos han tenido el apoyo de las aulas virtuales del Moodle durante la presencialidad remota?</th>\n",
       "      <th>¿Las aulas virtuales solo contienen la información básica del curso?</th>\n",
       "      <th>¿Los profesores incluyen materiales de las clases en ellas?</th>\n",
       "      <th>¿Cuáles de los siguientes elementos incluyen sus aulas virtuales?</th>\n",
       "      <th>¿Hacen actividades por medio de ella?</th>\n",
       "      <th>¿Cuáles de los siguientes actividades realizan en sus aulas virtuales?</th>\n",
       "      <th>¿Usan la mensajería de las aulas virtuales para comunicarse fuera de las horas de clases?</th>\n",
       "      <th>...</th>\n",
       "      <th>¿Del 1 al 5, con qué frecuencia encuentra usted en el aula virtual lo siguiente? [Material escrito o audiovisual que habla de la materia.]</th>\n",
       "      <th>¿Del 1 al 5, con qué frecuencia encuentra usted en el aula virtual lo siguiente? [Cuestionarios, foros, encuestas sobre actividades del curso.]</th>\n",
       "      <th>¿Del 1 al 5, con qué frecuencia encuentra usted en el aula virtual lo siguiente? [Juegos, películas, o actividades de ocio.]</th>\n",
       "      <th>¿Qué uso le da usted a las aulas virtuales?</th>\n",
       "      <th>En las aulas virtuales que usted ha utilizado, encuentra...</th>\n",
       "      <th>¿En qué área cree usted que le ha sido más útil el aula virtual?</th>\n",
       "      <th>¿Qué materia considera usted que ha tenido la mejor aula virtual entre todas las vistas?</th>\n",
       "      <th>Si pudiera usted añadirle contenido a un aula virtual, ¿Qué cosas añadiría? ¿Seleccionaría alguna aula en particular?</th>\n",
       "      <th>¿Cuál es el tipo de pregunta que más predomina en sus pruebas o exámenes?</th>\n",
       "      <th>¿Con que frecuencia presenta pruebas o exámenes fuera del aula virtual?</th>\n",
       "    </tr>\n",
       "  </thead>\n",
       "  <tbody>\n",
       "    <tr>\n",
       "      <th>0</th>\n",
       "      <td>9/08/2021 11:59:57</td>\n",
       "      <td>Jhordanrh Villamizar</td>\n",
       "      <td>80</td>\n",
       "      <td>80.0</td>\n",
       "      <td>No, contiene información adicional a lo básico</td>\n",
       "      <td>Si</td>\n",
       "      <td>Vídeos, Imágenes, Artículos</td>\n",
       "      <td>Si</td>\n",
       "      <td>Foros, Encuestas, Tareas, Talleres</td>\n",
       "      <td>Sí</td>\n",
       "      <td>...</td>\n",
       "      <td>3</td>\n",
       "      <td>2</td>\n",
       "      <td>1</td>\n",
       "      <td>Para presentar las pruebas del curso en cuesti...</td>\n",
       "      <td>Material audiovisual relacionado con el área e...</td>\n",
       "      <td>Ciencias básicas (matemáticas, física, química...</td>\n",
       "      <td>Bases de datos 2</td>\n",
       "      <td>Nadq</td>\n",
       "      <td>Seleccionar</td>\n",
       "      <td>4</td>\n",
       "    </tr>\n",
       "    <tr>\n",
       "      <th>1</th>\n",
       "      <td>9/08/2021 12:02:09</td>\n",
       "      <td>David Vasquez</td>\n",
       "      <td>40</td>\n",
       "      <td>40.0</td>\n",
       "      <td>No, contiene información adicional a lo básico</td>\n",
       "      <td>Si</td>\n",
       "      <td>Vídeos, Imágenes, Artículos</td>\n",
       "      <td>Si</td>\n",
       "      <td>Cuestionarios, Foros, Encuestas, Tareas, Talleres</td>\n",
       "      <td>Sí</td>\n",
       "      <td>...</td>\n",
       "      <td>2</td>\n",
       "      <td>2</td>\n",
       "      <td>1</td>\n",
       "      <td>Para presentar las pruebas del curso en cuesti...</td>\n",
       "      <td>Material audiovisual relacionado con el área e...</td>\n",
       "      <td>Ciencias básicas (matemáticas, física, química...</td>\n",
       "      <td>Dirección empresarial</td>\n",
       "      <td>Que queden las clases grabadas dentro del aula</td>\n",
       "      <td>Seleccionar</td>\n",
       "      <td>5</td>\n",
       "    </tr>\n",
       "    <tr>\n",
       "      <th>2</th>\n",
       "      <td>9/08/2021 12:02:57</td>\n",
       "      <td>David Gallo</td>\n",
       "      <td>60</td>\n",
       "      <td>80.0</td>\n",
       "      <td>No, contiene información adicional a lo básico</td>\n",
       "      <td>Si</td>\n",
       "      <td>Vídeos, Imágenes, Artículos, Películas, Quices...</td>\n",
       "      <td>No</td>\n",
       "      <td>Cuestionarios, Foros, Encuestas, Tareas, Juego...</td>\n",
       "      <td>Sí</td>\n",
       "      <td>...</td>\n",
       "      <td>4</td>\n",
       "      <td>3</td>\n",
       "      <td>2</td>\n",
       "      <td>Para presentar las pruebas del curso en cuesti...</td>\n",
       "      <td>Material que te hable de los aportes de la mat...</td>\n",
       "      <td>Materias de carrera básicas</td>\n",
       "      <td>Dirección empresarial y bases de datos 1 hasta...</td>\n",
       "      <td>Chat del curso, todas las aulas</td>\n",
       "      <td>Escribir y justificar</td>\n",
       "      <td>4</td>\n",
       "    </tr>\n",
       "    <tr>\n",
       "      <th>3</th>\n",
       "      <td>9/08/2021 12:02:58</td>\n",
       "      <td>Daniel Alejandro Leon Ortiz</td>\n",
       "      <td>80</td>\n",
       "      <td>80.0</td>\n",
       "      <td>No, contiene información adicional a lo básico</td>\n",
       "      <td>Si</td>\n",
       "      <td>Vídeos, Imágenes</td>\n",
       "      <td>Si</td>\n",
       "      <td>Cuestionarios, Encuestas, Tareas, Talleres</td>\n",
       "      <td>No</td>\n",
       "      <td>...</td>\n",
       "      <td>4</td>\n",
       "      <td>3</td>\n",
       "      <td>2</td>\n",
       "      <td>Para presentar las pruebas del curso en cuesti...</td>\n",
       "      <td>Material audiovisual relacionado con el área e...</td>\n",
       "      <td>Ciencias básicas (matemáticas, física, química...</td>\n",
       "      <td>Ecuaciones Diferenciales</td>\n",
       "      <td>Sustentaciones de las actividades con proceso</td>\n",
       "      <td>Escribir y justificar</td>\n",
       "      <td>6</td>\n",
       "    </tr>\n",
       "    <tr>\n",
       "      <th>4</th>\n",
       "      <td>9/08/2021 12:06:36</td>\n",
       "      <td>Yuliana Acevedo Vila</td>\n",
       "      <td>10</td>\n",
       "      <td>90.0</td>\n",
       "      <td>No, contiene información adicional a lo básico</td>\n",
       "      <td>Si</td>\n",
       "      <td>Vídeos, Imágenes, Artículos</td>\n",
       "      <td>Si</td>\n",
       "      <td>Cuestionarios, Foros, Encuestas, Tareas, Talleres</td>\n",
       "      <td>Sí</td>\n",
       "      <td>...</td>\n",
       "      <td>5</td>\n",
       "      <td>4</td>\n",
       "      <td>1</td>\n",
       "      <td>Para presentar las pruebas del curso en cuesti...</td>\n",
       "      <td>Ninguna de las anteriores</td>\n",
       "      <td>Ciencias básicas (matemáticas, física, química...</td>\n",
       "      <td>Física II y III, Ecuaciones Diferenciales, Cál...</td>\n",
       "      <td>Videos sugeridos que expliquen las temáticas q...</td>\n",
       "      <td>Seleccionar</td>\n",
       "      <td>5</td>\n",
       "    </tr>\n",
       "  </tbody>\n",
       "</table>\n",
       "<p>5 rows × 24 columns</p>\n",
       "</div>"
      ],
      "text/plain": [
       "       Marca temporal                       Nombre  \\\n",
       "0  9/08/2021 11:59:57         Jhordanrh Villamizar   \n",
       "1  9/08/2021 12:02:09               David Vasquez    \n",
       "2  9/08/2021 12:02:57                  David Gallo   \n",
       "3  9/08/2021 12:02:58  Daniel Alejandro Leon Ortiz   \n",
       "4  9/08/2021 12:06:36         Yuliana Acevedo Vila   \n",
       "\n",
       "   ¿Qué porcentaje aproximado de sus cursos han tenido el apoyo de las aulas virtuales del Moodle antes de la presencialidad remota?  \\\n",
       "0                                                 80                                                                                   \n",
       "1                                                 40                                                                                   \n",
       "2                                                 60                                                                                   \n",
       "3                                                 80                                                                                   \n",
       "4                                                 10                                                                                   \n",
       "\n",
       "   ¿Qué porcentaje aproximado de sus cursos han tenido el apoyo de las aulas virtuales del Moodle durante la presencialidad remota?  \\\n",
       "0                                               80.0                                                                                  \n",
       "1                                               40.0                                                                                  \n",
       "2                                               80.0                                                                                  \n",
       "3                                               80.0                                                                                  \n",
       "4                                               90.0                                                                                  \n",
       "\n",
       "  ¿Las aulas virtuales solo contienen la información básica del curso?  \\\n",
       "0     No, contiene información adicional a lo básico                     \n",
       "1     No, contiene información adicional a lo básico                     \n",
       "2     No, contiene información adicional a lo básico                     \n",
       "3     No, contiene información adicional a lo básico                     \n",
       "4     No, contiene información adicional a lo básico                     \n",
       "\n",
       "  ¿Los profesores incluyen materiales de las clases en ellas?  \\\n",
       "0                                                 Si            \n",
       "1                                                 Si            \n",
       "2                                                 Si            \n",
       "3                                                 Si            \n",
       "4                                                 Si            \n",
       "\n",
       "  ¿Cuáles de los siguientes elementos incluyen sus aulas virtuales?  \\\n",
       "0                        Vídeos, Imágenes, Artículos                  \n",
       "1                        Vídeos, Imágenes, Artículos                  \n",
       "2  Vídeos, Imágenes, Artículos, Películas, Quices...                  \n",
       "3                                   Vídeos, Imágenes                  \n",
       "4                        Vídeos, Imágenes, Artículos                  \n",
       "\n",
       "  ¿Hacen actividades por medio de ella?  \\\n",
       "0                                    Si   \n",
       "1                                    Si   \n",
       "2                                    No   \n",
       "3                                    Si   \n",
       "4                                    Si   \n",
       "\n",
       "  ¿Cuáles de los siguientes actividades realizan en sus aulas virtuales?  \\\n",
       "0                 Foros, Encuestas, Tareas, Talleres                       \n",
       "1  Cuestionarios, Foros, Encuestas, Tareas, Talleres                       \n",
       "2  Cuestionarios, Foros, Encuestas, Tareas, Juego...                       \n",
       "3         Cuestionarios, Encuestas, Tareas, Talleres                       \n",
       "4  Cuestionarios, Foros, Encuestas, Tareas, Talleres                       \n",
       "\n",
       "  ¿Usan la mensajería de las aulas virtuales para comunicarse fuera de las horas de clases?  \\\n",
       "0                                                 Sí                                          \n",
       "1                                                 Sí                                          \n",
       "2                                                 Sí                                          \n",
       "3                                                 No                                          \n",
       "4                                                 Sí                                          \n",
       "\n",
       "   ...  \\\n",
       "0  ...   \n",
       "1  ...   \n",
       "2  ...   \n",
       "3  ...   \n",
       "4  ...   \n",
       "\n",
       "  ¿Del 1 al 5, con qué frecuencia encuentra usted en el aula virtual lo siguiente? [Material escrito o audiovisual que habla de la materia.]  \\\n",
       "0                                                  3                                                                                           \n",
       "1                                                  2                                                                                           \n",
       "2                                                  4                                                                                           \n",
       "3                                                  4                                                                                           \n",
       "4                                                  5                                                                                           \n",
       "\n",
       "   ¿Del 1 al 5, con qué frecuencia encuentra usted en el aula virtual lo siguiente? [Cuestionarios, foros, encuestas sobre actividades del curso.]  \\\n",
       "0                                                  2                                                                                                 \n",
       "1                                                  2                                                                                                 \n",
       "2                                                  3                                                                                                 \n",
       "3                                                  3                                                                                                 \n",
       "4                                                  4                                                                                                 \n",
       "\n",
       "   ¿Del 1 al 5, con qué frecuencia encuentra usted en el aula virtual lo siguiente? [Juegos, películas, o actividades de ocio.]  \\\n",
       "0                                                  1                                                                              \n",
       "1                                                  1                                                                              \n",
       "2                                                  2                                                                              \n",
       "3                                                  2                                                                              \n",
       "4                                                  1                                                                              \n",
       "\n",
       "         ¿Qué uso le da usted a las aulas virtuales?  \\\n",
       "0  Para presentar las pruebas del curso en cuesti...   \n",
       "1  Para presentar las pruebas del curso en cuesti...   \n",
       "2  Para presentar las pruebas del curso en cuesti...   \n",
       "3  Para presentar las pruebas del curso en cuesti...   \n",
       "4  Para presentar las pruebas del curso en cuesti...   \n",
       "\n",
       "   En las aulas virtuales que usted ha utilizado, encuentra...  \\\n",
       "0  Material audiovisual relacionado con el área e...             \n",
       "1  Material audiovisual relacionado con el área e...             \n",
       "2  Material que te hable de los aportes de la mat...             \n",
       "3  Material audiovisual relacionado con el área e...             \n",
       "4                          Ninguna de las anteriores             \n",
       "\n",
       "   ¿En qué área cree usted que le ha sido más útil el aula virtual?  \\\n",
       "0  Ciencias básicas (matemáticas, física, química...                  \n",
       "1  Ciencias básicas (matemáticas, física, química...                  \n",
       "2                        Materias de carrera básicas                  \n",
       "3  Ciencias básicas (matemáticas, física, química...                  \n",
       "4  Ciencias básicas (matemáticas, física, química...                  \n",
       "\n",
       "   ¿Qué materia considera usted que ha tenido la mejor aula virtual entre todas las vistas?  \\\n",
       "0                                   Bases de datos 2                                          \n",
       "1                              Dirección empresarial                                          \n",
       "2  Dirección empresarial y bases de datos 1 hasta...                                          \n",
       "3                          Ecuaciones Diferenciales                                           \n",
       "4  Física II y III, Ecuaciones Diferenciales, Cál...                                          \n",
       "\n",
       "  Si pudiera usted añadirle contenido a un aula virtual, ¿Qué cosas añadiría? ¿Seleccionaría alguna aula en particular?  \\\n",
       "0                                               Nadq                                                                      \n",
       "1    Que queden las clases grabadas dentro del aula                                                                       \n",
       "2                    Chat del curso, todas las aulas                                                                      \n",
       "3      Sustentaciones de las actividades con proceso                                                                      \n",
       "4  Videos sugeridos que expliquen las temáticas q...                                                                      \n",
       "\n",
       "  ¿Cuál es el tipo de pregunta que más predomina en sus pruebas o exámenes?  \\\n",
       "0                                        Seleccionar                          \n",
       "1                                        Seleccionar                          \n",
       "2                              Escribir y justificar                          \n",
       "3                              Escribir y justificar                          \n",
       "4                                        Seleccionar                          \n",
       "\n",
       "  ¿Con que frecuencia presenta pruebas o exámenes fuera del aula virtual?  \n",
       "0                                                  4                       \n",
       "1                                                  5                       \n",
       "2                                                  4                       \n",
       "3                                                  6                       \n",
       "4                                                  5                       \n",
       "\n",
       "[5 rows x 24 columns]"
      ]
     },
     "execution_count": 4,
     "metadata": {},
     "output_type": "execute_result"
    }
   ],
   "source": [
    "#primeras y las últimas filas del DataFrame, respectivamente.\n",
    "df.head()\n",
    "#df.tail()"
   ]
  },
  {
   "cell_type": "code",
   "execution_count": 5,
   "id": "a00ae1b5",
   "metadata": {},
   "outputs": [
    {
     "data": {
      "text/plain": [
       "(20, 24)"
      ]
     },
     "execution_count": 5,
     "metadata": {},
     "output_type": "execute_result"
    }
   ],
   "source": [
    "df.shape"
   ]
  },
  {
   "cell_type": "markdown",
   "id": "c9aea76a",
   "metadata": {},
   "source": [
    "Eliminamos las columnas que no son necesarias"
   ]
  },
  {
   "cell_type": "code",
   "execution_count": 6,
   "id": "029632b8",
   "metadata": {
    "scrolled": false
   },
   "outputs": [],
   "source": [
    "df = df.drop(['Marca temporal', 'Nombre'], axis=1)"
   ]
  },
  {
   "cell_type": "markdown",
   "id": "ee39b3c4",
   "metadata": {},
   "source": [
    "Renombramos las columnas"
   ]
  },
  {
   "cell_type": "code",
   "execution_count": 7,
   "id": "d446d5e2",
   "metadata": {
    "scrolled": true
   },
   "outputs": [
    {
     "data": {
      "text/html": [
       "<div>\n",
       "<style scoped>\n",
       "    .dataframe tbody tr th:only-of-type {\n",
       "        vertical-align: middle;\n",
       "    }\n",
       "\n",
       "    .dataframe tbody tr th {\n",
       "        vertical-align: top;\n",
       "    }\n",
       "\n",
       "    .dataframe thead th {\n",
       "        text-align: right;\n",
       "    }\n",
       "</style>\n",
       "<table border=\"1\" class=\"dataframe\">\n",
       "  <thead>\n",
       "    <tr style=\"text-align: right;\">\n",
       "      <th></th>\n",
       "      <th>Apoyo antes</th>\n",
       "      <th>Apoyo durante</th>\n",
       "      <th>Informacion adicional</th>\n",
       "      <th>Materiales incluidos</th>\n",
       "      <th>Elementos incluidos</th>\n",
       "      <th>Realizacion actividades</th>\n",
       "      <th>Actividades realizadas</th>\n",
       "      <th>Mensajeria</th>\n",
       "      <th>Plataforma adicional</th>\n",
       "      <th>Material Adicional</th>\n",
       "      <th>...</th>\n",
       "      <th>Material academico</th>\n",
       "      <th>Ocio</th>\n",
       "      <th>Encuentra</th>\n",
       "      <th>Uso</th>\n",
       "      <th>Encuentra</th>\n",
       "      <th>Area mas util</th>\n",
       "      <th>Mejor aula virtual</th>\n",
       "      <th>Anadir elementos</th>\n",
       "      <th>Tipo de preguntas</th>\n",
       "      <th>Evaluaciones por fuera</th>\n",
       "    </tr>\n",
       "  </thead>\n",
       "  <tbody>\n",
       "    <tr>\n",
       "      <th>0</th>\n",
       "      <td>80</td>\n",
       "      <td>80.0</td>\n",
       "      <td>No, contiene información adicional a lo básico</td>\n",
       "      <td>Si</td>\n",
       "      <td>Vídeos, Imágenes, Artículos</td>\n",
       "      <td>Si</td>\n",
       "      <td>Foros, Encuestas, Tareas, Talleres</td>\n",
       "      <td>Sí</td>\n",
       "      <td>No uso otra plataforma</td>\n",
       "      <td>4</td>\n",
       "      <td>...</td>\n",
       "      <td>3</td>\n",
       "      <td>2</td>\n",
       "      <td>1</td>\n",
       "      <td>Para presentar las pruebas del curso en cuesti...</td>\n",
       "      <td>Material audiovisual relacionado con el área e...</td>\n",
       "      <td>Ciencias básicas (matemáticas, física, química...</td>\n",
       "      <td>Bases de datos 2</td>\n",
       "      <td>Nadq</td>\n",
       "      <td>Seleccionar</td>\n",
       "      <td>4</td>\n",
       "    </tr>\n",
       "  </tbody>\n",
       "</table>\n",
       "<p>1 rows × 22 columns</p>\n",
       "</div>"
      ],
      "text/plain": [
       "   Apoyo antes  Apoyo durante                           Informacion adicional  \\\n",
       "0           80           80.0  No, contiene información adicional a lo básico   \n",
       "\n",
       "  Materiales incluidos          Elementos incluidos Realizacion actividades  \\\n",
       "0                   Si  Vídeos, Imágenes, Artículos                      Si   \n",
       "\n",
       "               Actividades realizadas Mensajeria    Plataforma adicional  \\\n",
       "0  Foros, Encuestas, Tareas, Talleres         Sí  No uso otra plataforma   \n",
       "\n",
       "   Material Adicional  ...  Material academico  Ocio  Encuentra  \\\n",
       "0                   4  ...                   3     2          1   \n",
       "\n",
       "                                                 Uso  \\\n",
       "0  Para presentar las pruebas del curso en cuesti...   \n",
       "\n",
       "                                           Encuentra  \\\n",
       "0  Material audiovisual relacionado con el área e...   \n",
       "\n",
       "                                       Area mas util Mejor aula virtual  \\\n",
       "0  Ciencias básicas (matemáticas, física, química...   Bases de datos 2   \n",
       "\n",
       "  Anadir elementos Tipo de preguntas Evaluaciones por fuera  \n",
       "0             Nadq       Seleccionar                      4  \n",
       "\n",
       "[1 rows x 22 columns]"
      ]
     },
     "execution_count": 7,
     "metadata": {},
     "output_type": "execute_result"
    }
   ],
   "source": [
    "df.columns = ['Apoyo antes', 'Apoyo durante', 'Informacion adicional', 'Materiales incluidos', 'Elementos incluidos',\n",
    "              'Realizacion actividades', 'Actividades realizadas', 'Mensajeria', 'Plataforma adicional', \n",
    "              'Material Adicional', 'Material de clases', 'Material audiovisual', 'Material academico', \n",
    "              'Ocio', 'Encuentra', 'Uso', 'Encuentra', 'Area mas util', 'Mejor aula virtual', 'Anadir elementos', \n",
    "              'Tipo de preguntas', 'Evaluaciones por fuera'] \n",
    "df.head(1) #muestra solo la primera fila"
   ]
  },
  {
   "cell_type": "markdown",
   "id": "723199db",
   "metadata": {},
   "source": [
    "Pedimos información sobre los datos (filas y columnas)"
   ]
  },
  {
   "cell_type": "code",
   "execution_count": 8,
   "id": "16ddae17",
   "metadata": {},
   "outputs": [
    {
     "name": "stdout",
     "output_type": "stream",
     "text": [
      "<class 'pandas.core.frame.DataFrame'>\n",
      "RangeIndex: 20 entries, 0 to 19\n",
      "Data columns (total 22 columns):\n",
      " #   Column                   Non-Null Count  Dtype  \n",
      "---  ------                   --------------  -----  \n",
      " 0   Apoyo antes              20 non-null     int64  \n",
      " 1   Apoyo durante            20 non-null     float64\n",
      " 2   Informacion adicional    20 non-null     object \n",
      " 3   Materiales incluidos     20 non-null     object \n",
      " 4   Elementos incluidos      20 non-null     object \n",
      " 5   Realizacion actividades  20 non-null     object \n",
      " 6   Actividades realizadas   20 non-null     object \n",
      " 7   Mensajeria               20 non-null     object \n",
      " 8   Plataforma adicional     20 non-null     object \n",
      " 9   Material Adicional       20 non-null     int64  \n",
      " 10  Material de clases       20 non-null     int64  \n",
      " 11  Material audiovisual     20 non-null     int64  \n",
      " 12  Material academico       20 non-null     int64  \n",
      " 13  Ocio                     20 non-null     int64  \n",
      " 14  Encuentra                20 non-null     int64  \n",
      " 15  Uso                      20 non-null     object \n",
      " 16  Encuentra                20 non-null     object \n",
      " 17  Area mas util            20 non-null     object \n",
      " 18  Mejor aula virtual       20 non-null     object \n",
      " 19  Anadir elementos         20 non-null     object \n",
      " 20  Tipo de preguntas        20 non-null     object \n",
      " 21  Evaluaciones por fuera   20 non-null     int64  \n",
      "dtypes: float64(1), int64(8), object(13)\n",
      "memory usage: 3.6+ KB\n"
     ]
    }
   ],
   "source": [
    "df.info()"
   ]
  },
  {
   "cell_type": "markdown",
   "id": "dcfd9b4d",
   "metadata": {},
   "source": [
    "No hay datos nulos, en caso de haberlo podríamos utilizar la siguiente celda para eliminar las filas que los contengan (está comentada)."
   ]
  },
  {
   "cell_type": "code",
   "execution_count": 9,
   "id": "7733047b",
   "metadata": {},
   "outputs": [],
   "source": [
    "#eliminar las filas que contengan datos nulos\n",
    "#df = df.dropna(axis=0) "
   ]
  },
  {
   "cell_type": "markdown",
   "id": "a28af0b3",
   "metadata": {},
   "source": [
    "Pedimos los valores filas por columnas."
   ]
  },
  {
   "cell_type": "code",
   "execution_count": 10,
   "id": "3d1b2160",
   "metadata": {},
   "outputs": [
    {
     "data": {
      "text/plain": [
       "array(['No, contiene información adicional a lo básico', 'Si'],\n",
       "      dtype=object)"
      ]
     },
     "execution_count": 10,
     "metadata": {},
     "output_type": "execute_result"
    }
   ],
   "source": [
    "df['Informacion adicional'].unique()"
   ]
  },
  {
   "cell_type": "markdown",
   "id": "8f75d300",
   "metadata": {},
   "source": [
    "Adicionalmente, podemos cambiar los valores de las columnas. Por ejemplo, en la pregunta: ¿Las aulas virtuales solo contienen la información básica del curso? las respuestas son: \n",
    "- 'No, contiene información adicional a lo básico', \n",
    "- 'Si'\n",
    "\n",
    "Ahora bien, si la cambiamos a 'Informacion adicional'\n",
    "- 'Si' representaría que si contiene información adicional, es decir, 'No, contiene información adicional a lo básico'\n",
    "- 'No' representaría que no contiene informacional adicional, es decir, 'Si' de la pregunta original. "
   ]
  },
  {
   "cell_type": "code",
   "execution_count": 11,
   "id": "6bfb8c68",
   "metadata": {},
   "outputs": [],
   "source": [
    "#cambiar valores\n",
    "df.replace({'Informacion adicional': {'No, contiene información adicional a lo básico':'Si contiene', 'Si':'No contiene'}}, inplace=True)"
   ]
  },
  {
   "cell_type": "code",
   "execution_count": 25,
   "id": "a7fe5070",
   "metadata": {},
   "outputs": [
    {
     "data": {
      "image/png": "[encoded data removed]",
      "text/plain": [
       "<Figure size 432x288 with 1 Axes>"
      ]
     },
     "metadata": {
      "needs_background": "light"
     },
     "output_type": "display_data"
    }
   ],
   "source": [
    "sns.histplot(data=df, x='Informacion adicional')\n",
    "plt.ylabel('Frecuencia')\n",
    "plt.show()"
   ]
  },
  {
   "cell_type": "markdown",
   "id": "a24c9bba",
   "metadata": {},
   "source": [
    "### Uso de las aulas antes y después (Gráfica de caja)"
   ]
  },
  {
   "cell_type": "code",
   "execution_count": 16,
   "id": "8ef1ebd2",
   "metadata": {},
   "outputs": [
    {
     "name": "stdout",
     "output_type": "stream",
     "text": [
      "44.75\n",
      "64.857\n"
     ]
    }
   ],
   "source": [
    "print(df['Apoyo antes'].mean()) #imprimir la media del procentaje de uso de las aulas antes de la pandemia\n",
    "print(df['Apoyo durante'].mean()) #imprimir la media del procentaje de uso de las aulas durante la pandemia"
   ]
  },
  {
   "cell_type": "code",
   "execution_count": 29,
   "id": "8d8494af",
   "metadata": {},
   "outputs": [
    {
     "data": {
      "image/png": "[encoded data removed]",
      "text/plain": [
       "<Figure size 720x432 with 2 Axes>"
      ]
     },
     "metadata": {
      "needs_background": "light"
     },
     "output_type": "display_data"
    }
   ],
   "source": [
    "fig, axes = plt.subplots(2, sharex=True, figsize=(10,6)) #2 graficas, compartir el eje x\n",
    "\n",
    "sns.boxplot(x = df['Apoyo antes'],  orient=\"h\", ax=axes[0])\n",
    "sns.boxplot(x = df['Apoyo durante'],  orient=\"h\", ax=axes[1])\n",
    "\n",
    "plt.suptitle(\"Porcentaje del uso de las aulas virtuales antes y durante la pandemia\")\n",
    "plt.show()"
   ]
  },
  {
   "cell_type": "code",
   "execution_count": 19,
   "id": "69604cdb",
   "metadata": {},
   "outputs": [
    {
     "data": {
      "text/plain": [
       "array(['Ciencias básicas (matemáticas, física, química, biología)',\n",
       "       'Materias de carrera básicas', 'Electivas',\n",
       "       'Materias de carrera especializadas'], dtype=object)"
      ]
     },
     "execution_count": 19,
     "metadata": {},
     "output_type": "execute_result"
    }
   ],
   "source": [
    "df['Area mas util'].unique()"
   ]
  },
  {
   "cell_type": "code",
   "execution_count": 26,
   "id": "da7454c9",
   "metadata": {},
   "outputs": [
    {
     "data": {
      "image/png": "[encoded data removed]",
      "text/plain": [
       "<Figure size 432x288 with 1 Axes>"
      ]
     },
     "metadata": {
      "needs_background": "light"
     },
     "output_type": "display_data"
    }
   ],
   "source": [
    "sns.histplot(data=df, y=\"Area mas util\")\n",
    "plt.xlabel('Número de estudiantes')\n",
    "plt.show()"
   ]
  },
  {
   "cell_type": "code",
   "execution_count": null,
   "id": "f08d24da",
   "metadata": {},
   "outputs": [],
   "source": []
  }
 ],
 "metadata": {
  "kernelspec": {
   "display_name": "Python 3",
   "language": "python",
   "name": "python3"
  },
  "language_info": {
   "codemirror_mode": {
    "name": "ipython",
    "version": 3
   },
   "file_extension": ".py",
   "mimetype": "text/x-python",
   "name": "python",
   "nbconvert_exporter": "python",
   "pygments_lexer": "ipython3",
   "version": "3.8.8"
  }
 },
 "nbformat": 4,
 "nbformat_minor": 5
}
